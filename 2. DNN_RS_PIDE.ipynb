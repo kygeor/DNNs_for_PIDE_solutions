{
 "cells": [
  {
   "cell_type": "code",
   "execution_count": 1,
   "id": "2bdc6d55",
   "metadata": {},
   "outputs": [],
   "source": [
    "import pandas as pd\n",
    "import numpy as np\n",
    "import joblib\n",
    "import matplotlib.pyplot as plt\n",
    "from scipy.stats import poisson\n",
    "from tqdm.notebook import tqdm"
   ]
  },
  {
   "cell_type": "code",
   "execution_count": 2,
   "id": "577f6dba",
   "metadata": {},
   "outputs": [],
   "source": [
    "import random\n",
    "import tensorflow as tf"
   ]
  },
  {
   "cell_type": "code",
   "execution_count": 3,
   "id": "5a3c72d7",
   "metadata": {},
   "outputs": [],
   "source": [
    "# Define drift and diffusion terms of stochastic process\n",
    "\n",
    "def drift(x,kappa,theta):\n",
    "    \n",
    "    return kappa*(theta-x)\n",
    "\n",
    "\n",
    "def diff(x,sigma):\n",
    "    \n",
    "    return sigma\n",
    "    "
   ]
  },
  {
   "cell_type": "code",
   "execution_count": 4,
   "id": "f999d715",
   "metadata": {},
   "outputs": [],
   "source": [
    "# Function for Compound Poisson process for the jump term \n",
    "\n",
    "def normal_generator(mu_jump, sigma_jump, num_events):\n",
    "    return np.random.normal(mu_jump, sigma_jump, num_events)\n",
    "\n",
    "def compound_poisson_process(rate, dt, mu_jump, sigma_jump):\n",
    "    num_events = np.random.poisson(rate*dt, size = 1)\n",
    "    jumps = normal_generator(mu_jump = mu_jump, sigma_jump = sigma_jump, num_events = num_events)\n",
    "    \n",
    "    jump = jumps.sum()\n",
    "\n",
    "    if len(jumps) == 0:\n",
    "        jump = 0\n",
    "        \n",
    "    return jump\n",
    "\n",
    "#mu_jump = 0.0\n",
    "#sigma_jump = 1.0\n",
    "#num_events_simulated = 50\n",
    "\n",
    "#x = compound_poisson_process(10, 0.1, mu_jump, sigma_jump)\n",
    "#plt.title(\"Sample Compound Poisson Process (Binomial)\")\n",
    "#plt.xlabel(\"time\")\n",
    "#plt.ylabel(\"events\")\n",
    "#plt.legend()"
   ]
  },
  {
   "cell_type": "code",
   "execution_count": 5,
   "id": "e0a614de",
   "metadata": {},
   "outputs": [],
   "source": [
    "# Function to generate the evolution of a CTMC with given initial state, generator matrix and maturity\n",
    "\n",
    "def ctmc(R_0, Q, dt, T):\n",
    "    \n",
    "    R_0 = int(R_0)\n",
    "    T = float(T)\n",
    "    \n",
    "    #T = 1.  # Total time.\n",
    "    n = int(T / dt)  # Number of time steps.\n",
    "    t = np.linspace(0., T, n)\n",
    "    \n",
    "    if len(t) == 0.0:\n",
    "        return [R_0], [T]\n",
    "        \n",
    "    Q_rates = Q[~np.eye(Q.shape[0],dtype=bool)].reshape(Q.shape[0],-1)\n",
    "    \n",
    "    states = [R_0]\n",
    "    event_time = t[0]\n",
    "    times = [t[0]]\n",
    "    #n = 0 \n",
    "    \n",
    "    lambdas = [sum(Q_rates[i]) for i in range(len(Q_rates))]\n",
    "    #lambdas_sum = np.cumsum(lambdas)\n",
    "    \n",
    "    while event_time <= T:\n",
    "        \n",
    "        R = states[len(states) - 1]\n",
    "        l_i = lambdas[R]\n",
    "        l_sum = np.cumsum(Q_rates[R])\n",
    "\n",
    "        rate = sum(Q_rates[R])\n",
    "       \n",
    "        holding_time = np.random.exponential(scale = 1 / rate)\n",
    "\n",
    "        event_time = event_time + holding_time\n",
    "        if event_time <= T:\n",
    "            times.append(event_time)\n",
    "\n",
    "            u = np.random.uniform() \n",
    "\n",
    "            j = np.min(np.where(u <= (l_sum / l_i))[0])  ### Check! \n",
    "\n",
    "            if j >= R: \n",
    "                state_new = j + 1\n",
    "            else:\n",
    "                state_new = j \n",
    "\n",
    "            #print(f'state{ state_new}')\n",
    "\n",
    "            states.append(state_new)\n",
    "\n",
    "    return states, times        \n",
    "    "
   ]
  },
  {
   "cell_type": "code",
   "execution_count": 6,
   "id": "1382da00",
   "metadata": {},
   "outputs": [],
   "source": [
    "# Function for finite-horizon path simulation of jump regime switching OU process, with a given stopping value\n",
    "\n",
    "def ou_jump_sim_rs_stopping(kappa_vec, theta_vec, sigma_vec, mu_jump, sigma_jump, rate, dt, x_0, n_sim, stopping, Q, R_0, T, PD_flag):\n",
    "    \n",
    "    R_0 = int(R_0)\n",
    "    T = float(T)\n",
    "    #T = 1.  # Total time.\n",
    "    n = int(T / dt)  # Number of time steps.\n",
    "    t = np.linspace(0., T, n)  # Vector of times.\n",
    "    x = np.zeros(n)\n",
    "    \n",
    "    if len(x) == 0.0:\n",
    "        ruin_prob = 0.0 if x_0 <= stopping else 1.0 \n",
    "        return [x_0], ruin_prob, [R_0], [T]\n",
    "    \n",
    "    \n",
    "    x[0] = x_0\n",
    "    x_origin = x\n",
    "    x_list = list()\n",
    "    ruin_count = 0\n",
    "    \n",
    "    regime_states, regime_times = ctmc(R_0, Q, dt, T)\n",
    "    \n",
    "    regime_times.append(T)\n",
    "    \n",
    "    \n",
    "    for j in range(n_sim):\n",
    "        \n",
    "        if n-1 == 0:\n",
    "            stopping_factor = 0.0 if ((isinstance(stopping, float)) and (x[0] <= stopping)) else 1.0\n",
    "        else:\n",
    "        \n",
    "            for i in range(n - 1):\n",
    "\n",
    "                # For regime-switch\n",
    "                time_interval_index = np.min(np.where(regime_times > t[i])[0])  ### Check!\n",
    "            \n",
    "                state = regime_states[time_interval_index - 1]\n",
    "\n",
    "                kappa = kappa_vec[state]\n",
    "                theta = theta_vec[state]\n",
    "                sigma = sigma_vec[state]\n",
    "\n",
    "                stopping_factor = 0.0 if ((isinstance(stopping, float)) and (x[i] <= stopping)) else 1.0\n",
    "                \n",
    "                if PD_flag and (np.array([kappa, theta, sigma]) == 0.0).all():\n",
    "                    \n",
    "                    stopping_factor = 0.0\n",
    "                    x[i] = stopping\n",
    "\n",
    "                jump = compound_poisson_process(rate, dt, mu_jump, sigma_jump)\n",
    "\n",
    "                x[i + 1] = x[i] + stopping_factor*(drift(x[i], kappa=kappa, theta=theta)*dt + diff(x[i], sigma = sigma)*np.sqrt(dt)*np.random.randn() \\\n",
    "                                + jump)\n",
    "            \n",
    "#             if sigma**2 < kappa*(theta-x[i])*dx:\n",
    "#                 print('Condition flag')\n",
    "            \n",
    "#             x[i + 1] = x[i] + stopping_factor*(dx)\n",
    "            \n",
    "            \n",
    "        #plt.plot(t, x.copy(), lw=1)\n",
    "        x_list.append(x.copy())\n",
    "        x = x_origin\n",
    "        \n",
    "        if stopping_factor == 0.0:\n",
    "                ruin_count += 1\n",
    "                \n",
    "        stopping_factor = 1.0\n",
    "        \n",
    "    ruin_prob = ruin_count / n_sim    \n",
    "    \n",
    "    #plt.show()\n",
    "        \n",
    "    #X_tf = tf.stack(x_list)\n",
    "    return x_list, ruin_prob, regime_states, regime_times"
   ]
  },
  {
   "cell_type": "code",
   "execution_count": 7,
   "id": "c7b6cd75",
   "metadata": {
    "scrolled": true
   },
   "outputs": [],
   "source": [
    "# prob_list_ex = []\n",
    "\n",
    "# for start in tqdm(np.linspace(0.0, 1.0, 101)):\n",
    "    \n",
    "#     sigma = 0.5\n",
    "#     kappa = 0.3\n",
    "#     theta = 0.7\n",
    "#     mu_jump = 0.0\n",
    "#     sigma_jump = 0.5\n",
    "#     rate = 1.0\n",
    "#     dt = 0.01\n",
    "#     x_0 = start\n",
    "#     n_sim = 5000\n",
    "#     stopping = 0.0\n",
    "\n",
    "#     ou, prob = ou_jump_sim_stopping(kappa = kappa, theta = theta, sigma = sigma, mu_jump = mu_jump, sigma_jump = sigma_jump, rate = rate, \n",
    "#                      dt = dt, x_0 = x_0, n_sim = n_sim, stopping = stopping)\n",
    "    \n",
    "#     prob_list_ex.append(prob)\n",
    "    \n",
    "\n",
    "#     print(prob)"
   ]
  },
  {
   "cell_type": "code",
   "execution_count": 8,
   "id": "a63ab92b",
   "metadata": {
    "scrolled": true
   },
   "outputs": [],
   "source": [
    "#plt.plot(np.linspace(0.0, 1.0, 101), prob_list_ex)"
   ]
  },
  {
   "cell_type": "markdown",
   "id": "7fde4f9d",
   "metadata": {},
   "source": [
    "# Neural network ruin probability estimations - Levy Jump OU "
   ]
  },
  {
   "cell_type": "code",
   "execution_count": 9,
   "id": "01eb8f27",
   "metadata": {},
   "outputs": [],
   "source": [
    "# Payoff function for default with 1 if the process has defaulted and 0 else\n",
    "\n",
    "def g_func(path, stopping):\n",
    "    \n",
    "    #T = 1.  # Total time.\n",
    "    #n = int(T / dt)  # Number of time steps.\n",
    "    #t = np.linspace(0., T, n)\n",
    "    \n",
    "    #path, ruin = ou_sim_2(kappa, theta, sigma, dt, x_0, 1, stopping)\n",
    "    \n",
    "    #g = tf.constant(1.0) if (tf.math.reduce_any(path <= 0)) else tf.constant(0.0)\n",
    "    g = tf.constant(1.0) if (np.any(np.array(path) <= 0)) else tf.constant(0.0)\n",
    "    return g\n",
    "    "
   ]
  },
  {
   "cell_type": "code",
   "execution_count": 10,
   "id": "cdabfdce",
   "metadata": {
    "scrolled": false
   },
   "outputs": [
    {
     "data": {
      "application/vnd.jupyter.widget-view+json": {
       "model_id": "d0bb7b50d31b44b6a7cf36515e374444",
       "version_major": 2,
       "version_minor": 0
      },
      "text/plain": [
       "  0%|          | 0/50000 [00:00<?, ?it/s]"
      ]
     },
     "metadata": {},
     "output_type": "display_data"
    },
    {
     "name": "stderr",
     "output_type": "stream",
     "text": [
      "<ipython-input-5-98498e8092e6>:33: RuntimeWarning: divide by zero encountered in double_scalars\n",
      "  holding_time = np.random.exponential(scale = 1 / rate)\n"
     ]
    }
   ],
   "source": [
    "# Set data type\n",
    "DTYPE='float32'\n",
    "tf.keras.backend.set_floatx(DTYPE)\n",
    "\n",
    "# Set constants\n",
    "# Q = np.array([[-0.5, 0.3, 0.2], \n",
    "#     [0.3, -0.6, 0.3],   \n",
    "#     [0.2, 0.3, -0.5]])\n",
    "# kappa_vec = np.array([0.3,0.2,0.2])\n",
    "# theta_vec = np.array([0.5, 0.8, 0.2])\n",
    "# sigma_vec = np.array([0.5, 0.3, 0.6])\n",
    "\n",
    "Q = np.array([[-0.5, 0.3, 0.2], \n",
    "    [0.3, -0.6, 0.3],   \n",
    "    [0.0, 0.0, -0.0]])\n",
    "kappa_vec = np.array([0.3,0.2,0.0])\n",
    "theta_vec = np.array([0.8, 0.5, 0.0])\n",
    "sigma_vec = np.array([0.3, 0.5, 0.0])\n",
    "\n",
    "mu_jump = 0.0\n",
    "sigma_jump = 0.5\n",
    "rate = 1.0\n",
    "stopping = 0.0\n",
    "\n",
    "dt = 0.0001\n",
    "\n",
    "# Set boundary values for initial position and convert to tensorflow\n",
    "xmin = -6.0\n",
    "xmax = 6.0\n",
    "\n",
    "lb = tf.constant([xmin], dtype=DTYPE)\n",
    "ub = tf.constant([xmax], dtype=DTYPE)\n",
    "\n",
    "# Set random seed for reproducible results\n",
    "tf.random.set_seed(100)\n",
    "\n",
    "# Set number of path simulations\n",
    "N_sim = 50000\n",
    "\n",
    "# Draw random initial positions, maturity times, and initial regimes for path simulations\n",
    "X_0_data = tf.random.uniform((N_sim,1), lb, ub, dtype=DTYPE)\n",
    "t_data = tf.random.uniform((N_sim,1), 0.0, 1.0, dtype = DTYPE)\n",
    "R_data = tf.cast(tf.reshape(tf.random.categorical(tf.math.log([[1/3,1/3,1/3]]), N_sim), (N_sim,1)),tf.float32)\n",
    "\n",
    "# Concatenate all parameters that will constitute model input into tensorflow format\n",
    "process_data = tf.concat([X_0_data, t_data, R_data], axis=1)\n",
    "\n",
    "# Simulate path for each (x, rho, t) and append paths in list that will be used for training\n",
    "path_data_list = []\n",
    "for i in tqdm(range(len(X_0_data))):\n",
    "    \n",
    "    path_data, ruin, states, times =  ou_jump_sim_rs_stopping(kappa_vec = kappa_vec, theta_vec = theta_vec, \n",
    "                                                              sigma_vec = sigma_vec, mu_jump = mu_jump, \n",
    "                                                              sigma_jump = sigma_jump, rate = rate, dt = dt, x_0 = X_0_data[i], \n",
    "                                                              n_sim = 1, stopping = 0.0, Q = Q, R_0 = R_data[i],  T = t_data[i], PD_flag = True)\n",
    "        \n",
    "    path_data_list.append(path_data.copy())\n",
    "    \n",
    "## Make the paths a tensor for compatability with the NN architecture    \n",
    "#path_data_list = tf.stack(path_data_not_tf)   "
   ]
  },
  {
   "cell_type": "code",
   "execution_count": 1,
   "id": "f88b8b66",
   "metadata": {
    "scrolled": true
   },
   "outputs": [],
   "source": [
    "#np.save('path_data_list_rs_r_input.npy', np.array(path_data_list))"
   ]
  },
  {
   "cell_type": "code",
   "execution_count": 13,
   "id": "44ccb854",
   "metadata": {
    "scrolled": false
   },
   "outputs": [],
   "source": [
    "#path_data_list = np.load('path_data_list_rs_r_input.npy', allow_pickle=True)"
   ]
  },
  {
   "cell_type": "code",
   "execution_count": 11,
   "id": "0e363c22",
   "metadata": {},
   "outputs": [],
   "source": [
    "# Neural network parameters\n",
    "num_hidden_layers = 5\n",
    "num_neurons_per_layer = 10\n",
    "\n",
    "# Initializing the feedforwad neural network\n",
    "model_jump = tf.keras.Sequential()\n",
    "\n",
    "# Input is one-dimensional (only space & fixed time)\n",
    "model_jump.add(tf.keras.Input(3))\n",
    "\n",
    "# # Scaling layer to map input to [lb, ub]\n",
    "# scaling_layer = tf.keras.layers.Lambda(lambda x:\n",
    "#                                       2.0*(x-lb)/(ub-lb)-1.0)\n",
    "# model_jump.add(scaling_layer)\n",
    "\n",
    "# Append hidden layers \n",
    "for _ in range(num_hidden_layers):\n",
    "        model_jump.add(tf.keras.layers.Dense(num_neurons_per_layer,\n",
    "            activation=tf.keras.activations.get('softplus'),\n",
    "            kernel_initializer='glorot_uniform'))\n",
    "        \n",
    "# Output is one-dimensional\n",
    "model_jump.add(tf.keras.layers.Dense(1))"
   ]
  },
  {
   "cell_type": "code",
   "execution_count": 12,
   "id": "7f144d56",
   "metadata": {},
   "outputs": [],
   "source": [
    "# Compute loss functon\n",
    "\n",
    "def loss_function(model_jump, process_data, path_data_list):\n",
    "    \n",
    "    loss = 0.0\n",
    "    \n",
    "    for i in range(len(process_data)):\n",
    "        \n",
    "        path_values = path_data_list[i]\n",
    "        \n",
    "        g = g_func(path = path_values, stopping = 0.0)\n",
    "        \n",
    "        # Predict PD value\n",
    "        pred = model_jump(process_data[i:(i+1)])\n",
    "        # Compute loss as the squared difference between the payoff and model prediction (method by Frey)\n",
    "        loss += tf.square(g - pred)\n",
    "        \n",
    "    # Final loss\n",
    "    loss_value = loss / len(process_data)\n",
    "    \n",
    "    return loss_value    \n",
    "    "
   ]
  },
  {
   "cell_type": "code",
   "execution_count": 13,
   "id": "62fba97c",
   "metadata": {},
   "outputs": [],
   "source": [
    "# Function that computes the gradient of the loss function\n",
    "\n",
    "def grad(model_jump, process_data, path_data_list):\n",
    "    \n",
    "    with tf.GradientTape(persistent=True) as tape:\n",
    "        # This tape is for derivatives with\n",
    "        # respect to trainable variables\n",
    "        tape.watch(model_jump.trainable_variables)\n",
    "        loss_value = loss_function(model_jump, process_data, path_data_list)\n",
    "    \n",
    "    grad = tape.gradient(loss_value, model_jump.trainable_variables)\n",
    "        \n",
    "    del tape\n",
    "    \n",
    "    return loss_value, grad"
   ]
  },
  {
   "cell_type": "code",
   "execution_count": 14,
   "id": "0ee4fcd7",
   "metadata": {},
   "outputs": [],
   "source": [
    "# We choose a piecewise decay of the learning rate, i.e., the\n",
    "# step size in the gradient descent type algorithm\n",
    "# the first 1000 steps use a learning rate of 0.01\n",
    "# from 1000 - 3000: learning rate = 0.001\n",
    "# from 3000 onwards: learning rate = 0.0005\n",
    "\n",
    "lr = tf.keras.optimizers.schedules.PiecewiseConstantDecay([2000,4000,6000],[1e-1,1e-2,1e-3,1e-4])\n",
    "\n",
    "# Choose the optimizer\n",
    "optim = tf.keras.optimizers.Adam(learning_rate=lr)"
   ]
  },
  {
   "cell_type": "code",
   "execution_count": 15,
   "id": "5fbbacd6",
   "metadata": {},
   "outputs": [],
   "source": [
    "from time import time\n",
    "\n",
    "# Training step is a TensorFlow function (increases speed of training)\n",
    "@tf.function\n",
    "def train_step():\n",
    "    # Compute current loss and gradient w.r.t. parameters\n",
    "    loss, grad_theta = grad(model_jump, process_data, path_data_list)\n",
    "    \n",
    "    # Perform gradient descent step\n",
    "    optim.apply_gradients(zip(grad_theta, model_jump.trainable_variables))\n",
    "    \n",
    "    return loss"
   ]
  },
  {
   "cell_type": "code",
   "execution_count": 16,
   "id": "228a4c01",
   "metadata": {
    "scrolled": true
   },
   "outputs": [
    {
     "data": {
      "application/vnd.jupyter.widget-view+json": {
       "model_id": "59ad06f7448a4d4abb9518f9655592c4",
       "version_major": 2,
       "version_minor": 0
      },
      "text/plain": [
       "  0%|          | 0/10001 [00:00<?, ?it/s]"
      ]
     },
     "metadata": {},
     "output_type": "display_data"
    },
    {
     "name": "stdout",
     "output_type": "stream",
     "text": [
      "It0: loss = [[1.4862472]]\n",
      "It100: loss = [[0.2033903]]\n",
      "It200: loss = [[0.20337413]]\n",
      "It300: loss = [[0.20337929]]\n",
      "It400: loss = [[0.2033789]]\n",
      "It500: loss = [[0.20337833]]\n",
      "It600: loss = [[0.20337804]]\n",
      "It700: loss = [[0.20337783]]\n",
      "It800: loss = [[0.2033777]]\n",
      "It900: loss = [[0.20337653]]\n",
      "It1000: loss = [[0.20337614]]\n",
      "It1100: loss = [[0.20337525]]\n",
      "It1200: loss = [[0.20337452]]\n",
      "It1300: loss = [[0.20337312]]\n",
      "It1400: loss = [[0.20337294]]\n",
      "It1500: loss = [[0.20337275]]\n",
      "It1600: loss = [[0.20337282]]\n",
      "It1700: loss = [[0.20337263]]\n",
      "It1800: loss = [[0.20337255]]\n",
      "It1900: loss = [[0.20337257]]\n",
      "It2000: loss = [[0.20337257]]\n",
      "It2100: loss = [[0.20337257]]\n",
      "It2200: loss = [[0.2033726]]\n",
      "It2300: loss = [[0.20337257]]\n",
      "It2400: loss = [[0.20337257]]\n",
      "It2500: loss = [[0.20337255]]\n",
      "It2600: loss = [[0.20337255]]\n",
      "It2700: loss = [[0.20337255]]\n",
      "It2800: loss = [[0.20337255]]\n",
      "It2900: loss = [[0.20337257]]\n",
      "It3000: loss = [[0.20337255]]\n",
      "It3100: loss = [[0.20337255]]\n",
      "It3200: loss = [[0.20337255]]\n",
      "It3300: loss = [[0.20337255]]\n",
      "It3400: loss = [[0.20337255]]\n",
      "It3500: loss = [[0.20337255]]\n",
      "It3600: loss = [[0.20337255]]\n",
      "It3700: loss = [[0.20337255]]\n",
      "It3800: loss = [[0.20337255]]\n",
      "It3900: loss = [[0.20337255]]\n",
      "It4000: loss = [[0.20337255]]\n",
      "It4100: loss = [[0.20337255]]\n",
      "It4200: loss = [[0.20337255]]\n",
      "It4300: loss = [[0.20337255]]\n",
      "It4400: loss = [[0.20337255]]\n",
      "It4500: loss = [[0.20337255]]\n",
      "It4600: loss = [[0.20337255]]\n",
      "It4700: loss = [[0.20337255]]\n"
     ]
    },
    {
     "ename": "KeyboardInterrupt",
     "evalue": "",
     "output_type": "error",
     "traceback": [
      "\u001b[1;31m---------------------------------------------------------------------------\u001b[0m",
      "\u001b[1;31mKeyboardInterrupt\u001b[0m                         Traceback (most recent call last)",
      "\u001b[1;32m<ipython-input-16-d24d77418332>\u001b[0m in \u001b[0;36m<module>\u001b[1;34m\u001b[0m\n\u001b[0;32m      8\u001b[0m \u001b[1;32mfor\u001b[0m \u001b[0mi\u001b[0m \u001b[1;32min\u001b[0m \u001b[0mtqdm\u001b[0m\u001b[1;33m(\u001b[0m\u001b[0mrange\u001b[0m\u001b[1;33m(\u001b[0m\u001b[0mN\u001b[0m\u001b[1;33m+\u001b[0m\u001b[1;36m1\u001b[0m\u001b[1;33m)\u001b[0m\u001b[1;33m)\u001b[0m\u001b[1;33m:\u001b[0m\u001b[1;33m\u001b[0m\u001b[1;33m\u001b[0m\u001b[0m\n\u001b[0;32m      9\u001b[0m \u001b[1;33m\u001b[0m\u001b[0m\n\u001b[1;32m---> 10\u001b[1;33m     \u001b[0mloss\u001b[0m \u001b[1;33m=\u001b[0m \u001b[0mtrain_step\u001b[0m\u001b[1;33m(\u001b[0m\u001b[1;33m)\u001b[0m\u001b[1;33m\u001b[0m\u001b[1;33m\u001b[0m\u001b[0m\n\u001b[0m\u001b[0;32m     11\u001b[0m \u001b[1;33m\u001b[0m\u001b[0m\n\u001b[0;32m     12\u001b[0m     \u001b[1;31m# Append current loss to hist\u001b[0m\u001b[1;33m\u001b[0m\u001b[1;33m\u001b[0m\u001b[1;33m\u001b[0m\u001b[0m\n",
      "\u001b[1;32m~\\Anaconda3\\lib\\site-packages\\tensorflow\\python\\eager\\def_function.py\u001b[0m in \u001b[0;36m__call__\u001b[1;34m(self, *args, **kwds)\u001b[0m\n\u001b[0;32m    883\u001b[0m \u001b[1;33m\u001b[0m\u001b[0m\n\u001b[0;32m    884\u001b[0m       \u001b[1;32mwith\u001b[0m \u001b[0mOptionalXlaContext\u001b[0m\u001b[1;33m(\u001b[0m\u001b[0mself\u001b[0m\u001b[1;33m.\u001b[0m\u001b[0m_jit_compile\u001b[0m\u001b[1;33m)\u001b[0m\u001b[1;33m:\u001b[0m\u001b[1;33m\u001b[0m\u001b[1;33m\u001b[0m\u001b[0m\n\u001b[1;32m--> 885\u001b[1;33m         \u001b[0mresult\u001b[0m \u001b[1;33m=\u001b[0m \u001b[0mself\u001b[0m\u001b[1;33m.\u001b[0m\u001b[0m_call\u001b[0m\u001b[1;33m(\u001b[0m\u001b[1;33m*\u001b[0m\u001b[0margs\u001b[0m\u001b[1;33m,\u001b[0m \u001b[1;33m**\u001b[0m\u001b[0mkwds\u001b[0m\u001b[1;33m)\u001b[0m\u001b[1;33m\u001b[0m\u001b[1;33m\u001b[0m\u001b[0m\n\u001b[0m\u001b[0;32m    886\u001b[0m \u001b[1;33m\u001b[0m\u001b[0m\n\u001b[0;32m    887\u001b[0m       \u001b[0mnew_tracing_count\u001b[0m \u001b[1;33m=\u001b[0m \u001b[0mself\u001b[0m\u001b[1;33m.\u001b[0m\u001b[0mexperimental_get_tracing_count\u001b[0m\u001b[1;33m(\u001b[0m\u001b[1;33m)\u001b[0m\u001b[1;33m\u001b[0m\u001b[1;33m\u001b[0m\u001b[0m\n",
      "\u001b[1;32m~\\Anaconda3\\lib\\site-packages\\tensorflow\\python\\eager\\def_function.py\u001b[0m in \u001b[0;36m_call\u001b[1;34m(self, *args, **kwds)\u001b[0m\n\u001b[0;32m    915\u001b[0m       \u001b[1;31m# In this case we have created variables on the first call, so we run the\u001b[0m\u001b[1;33m\u001b[0m\u001b[1;33m\u001b[0m\u001b[1;33m\u001b[0m\u001b[0m\n\u001b[0;32m    916\u001b[0m       \u001b[1;31m# defunned version which is guaranteed to never create variables.\u001b[0m\u001b[1;33m\u001b[0m\u001b[1;33m\u001b[0m\u001b[1;33m\u001b[0m\u001b[0m\n\u001b[1;32m--> 917\u001b[1;33m       \u001b[1;32mreturn\u001b[0m \u001b[0mself\u001b[0m\u001b[1;33m.\u001b[0m\u001b[0m_stateless_fn\u001b[0m\u001b[1;33m(\u001b[0m\u001b[1;33m*\u001b[0m\u001b[0margs\u001b[0m\u001b[1;33m,\u001b[0m \u001b[1;33m**\u001b[0m\u001b[0mkwds\u001b[0m\u001b[1;33m)\u001b[0m  \u001b[1;31m# pylint: disable=not-callable\u001b[0m\u001b[1;33m\u001b[0m\u001b[1;33m\u001b[0m\u001b[0m\n\u001b[0m\u001b[0;32m    918\u001b[0m     \u001b[1;32melif\u001b[0m \u001b[0mself\u001b[0m\u001b[1;33m.\u001b[0m\u001b[0m_stateful_fn\u001b[0m \u001b[1;32mis\u001b[0m \u001b[1;32mnot\u001b[0m \u001b[1;32mNone\u001b[0m\u001b[1;33m:\u001b[0m\u001b[1;33m\u001b[0m\u001b[1;33m\u001b[0m\u001b[0m\n\u001b[0;32m    919\u001b[0m       \u001b[1;31m# Release the lock early so that multiple threads can perform the call\u001b[0m\u001b[1;33m\u001b[0m\u001b[1;33m\u001b[0m\u001b[1;33m\u001b[0m\u001b[0m\n",
      "\u001b[1;32m~\\Anaconda3\\lib\\site-packages\\tensorflow\\python\\eager\\function.py\u001b[0m in \u001b[0;36m__call__\u001b[1;34m(self, *args, **kwargs)\u001b[0m\n\u001b[0;32m   3037\u001b[0m       (graph_function,\n\u001b[0;32m   3038\u001b[0m        filtered_flat_args) = self._maybe_define_function(args, kwargs)\n\u001b[1;32m-> 3039\u001b[1;33m     return graph_function._call_flat(\n\u001b[0m\u001b[0;32m   3040\u001b[0m         filtered_flat_args, captured_inputs=graph_function.captured_inputs)  # pylint: disable=protected-access\n\u001b[0;32m   3041\u001b[0m \u001b[1;33m\u001b[0m\u001b[0m\n",
      "\u001b[1;32m~\\Anaconda3\\lib\\site-packages\\tensorflow\\python\\eager\\function.py\u001b[0m in \u001b[0;36m_call_flat\u001b[1;34m(self, args, captured_inputs, cancellation_manager)\u001b[0m\n\u001b[0;32m   1961\u001b[0m         and executing_eagerly):\n\u001b[0;32m   1962\u001b[0m       \u001b[1;31m# No tape is watching; skip to running the function.\u001b[0m\u001b[1;33m\u001b[0m\u001b[1;33m\u001b[0m\u001b[1;33m\u001b[0m\u001b[0m\n\u001b[1;32m-> 1963\u001b[1;33m       return self._build_call_outputs(self._inference_function.call(\n\u001b[0m\u001b[0;32m   1964\u001b[0m           ctx, args, cancellation_manager=cancellation_manager))\n\u001b[0;32m   1965\u001b[0m     forward_backward = self._select_forward_and_backward_functions(\n",
      "\u001b[1;32m~\\Anaconda3\\lib\\site-packages\\tensorflow\\python\\eager\\function.py\u001b[0m in \u001b[0;36mcall\u001b[1;34m(self, ctx, args, cancellation_manager)\u001b[0m\n\u001b[0;32m    589\u001b[0m       \u001b[1;32mwith\u001b[0m \u001b[0m_InterpolateFunctionError\u001b[0m\u001b[1;33m(\u001b[0m\u001b[0mself\u001b[0m\u001b[1;33m)\u001b[0m\u001b[1;33m:\u001b[0m\u001b[1;33m\u001b[0m\u001b[1;33m\u001b[0m\u001b[0m\n\u001b[0;32m    590\u001b[0m         \u001b[1;32mif\u001b[0m \u001b[0mcancellation_manager\u001b[0m \u001b[1;32mis\u001b[0m \u001b[1;32mNone\u001b[0m\u001b[1;33m:\u001b[0m\u001b[1;33m\u001b[0m\u001b[1;33m\u001b[0m\u001b[0m\n\u001b[1;32m--> 591\u001b[1;33m           outputs = execute.execute(\n\u001b[0m\u001b[0;32m    592\u001b[0m               \u001b[0mstr\u001b[0m\u001b[1;33m(\u001b[0m\u001b[0mself\u001b[0m\u001b[1;33m.\u001b[0m\u001b[0msignature\u001b[0m\u001b[1;33m.\u001b[0m\u001b[0mname\u001b[0m\u001b[1;33m)\u001b[0m\u001b[1;33m,\u001b[0m\u001b[1;33m\u001b[0m\u001b[1;33m\u001b[0m\u001b[0m\n\u001b[0;32m    593\u001b[0m               \u001b[0mnum_outputs\u001b[0m\u001b[1;33m=\u001b[0m\u001b[0mself\u001b[0m\u001b[1;33m.\u001b[0m\u001b[0m_num_outputs\u001b[0m\u001b[1;33m,\u001b[0m\u001b[1;33m\u001b[0m\u001b[1;33m\u001b[0m\u001b[0m\n",
      "\u001b[1;32m~\\Anaconda3\\lib\\site-packages\\tensorflow\\python\\eager\\execute.py\u001b[0m in \u001b[0;36mquick_execute\u001b[1;34m(op_name, num_outputs, inputs, attrs, ctx, name)\u001b[0m\n\u001b[0;32m     57\u001b[0m   \u001b[1;32mtry\u001b[0m\u001b[1;33m:\u001b[0m\u001b[1;33m\u001b[0m\u001b[1;33m\u001b[0m\u001b[0m\n\u001b[0;32m     58\u001b[0m     \u001b[0mctx\u001b[0m\u001b[1;33m.\u001b[0m\u001b[0mensure_initialized\u001b[0m\u001b[1;33m(\u001b[0m\u001b[1;33m)\u001b[0m\u001b[1;33m\u001b[0m\u001b[1;33m\u001b[0m\u001b[0m\n\u001b[1;32m---> 59\u001b[1;33m     tensors = pywrap_tfe.TFE_Py_Execute(ctx._handle, device_name, op_name,\n\u001b[0m\u001b[0;32m     60\u001b[0m                                         inputs, attrs, num_outputs)\n\u001b[0;32m     61\u001b[0m   \u001b[1;32mexcept\u001b[0m \u001b[0mcore\u001b[0m\u001b[1;33m.\u001b[0m\u001b[0m_NotOkStatusException\u001b[0m \u001b[1;32mas\u001b[0m \u001b[0me\u001b[0m\u001b[1;33m:\u001b[0m\u001b[1;33m\u001b[0m\u001b[1;33m\u001b[0m\u001b[0m\n",
      "\u001b[1;31mKeyboardInterrupt\u001b[0m: "
     ]
    }
   ],
   "source": [
    "# Number of training epochs\n",
    "N = 10000\n",
    "hist = []\n",
    "\n",
    "# Start timer\n",
    "t0 = time()\n",
    "\n",
    "for i in tqdm(range(N+1)):\n",
    "    \n",
    "    loss = train_step()\n",
    "    \n",
    "    # Append current loss to hist\n",
    "    hist.append(loss.numpy())\n",
    "    \n",
    "    # Output current loss after 50 iterates\n",
    "    if i%100 == 0:\n",
    "        print('It{}: loss = {}'.format(i,loss))\n",
    "        \n",
    "# Print computation time\n",
    "print('\\nComputation time: {} seconds'.format(time()-t0))"
   ]
  },
  {
   "cell_type": "code",
   "execution_count": 306,
   "id": "5cc0d953",
   "metadata": {
    "scrolled": true
   },
   "outputs": [
    {
     "data": {
      "application/vnd.jupyter.widget-view+json": {
       "model_id": "7a7758f7fe4e451d82cfec832bf98120",
       "version_major": 2,
       "version_minor": 0
      },
      "text/plain": [
       "  0%|          | 0/8000 [00:00<?, ?it/s]"
      ]
     },
     "metadata": {},
     "output_type": "display_data"
    },
    {
     "name": "stdout",
     "output_type": "stream",
     "text": [
      "It2000: loss = [[0.03653863]]\n",
      "It2100: loss = [[0.03653003]]\n",
      "It2200: loss = [[0.03652153]]\n",
      "It2300: loss = [[0.03651311]]\n",
      "It2400: loss = [[0.03650472]]\n",
      "It2500: loss = [[0.03649634]]\n",
      "It2600: loss = [[0.03648818]]\n",
      "It2700: loss = [[0.0364801]]\n",
      "It2800: loss = [[0.03647214]]\n",
      "It2900: loss = [[0.0364642]]\n",
      "It3000: loss = [[0.03645649]]\n",
      "It3100: loss = [[0.03644887]]\n",
      "It3200: loss = [[0.0364414]]\n",
      "It3300: loss = [[0.03643403]]\n",
      "It3400: loss = [[0.0364269]]\n",
      "It3500: loss = [[0.03641982]]\n",
      "It3600: loss = [[0.0364128]]\n",
      "It3700: loss = [[0.03640586]]\n",
      "It3800: loss = [[0.03639905]]\n",
      "It3900: loss = [[0.03639246]]\n",
      "It4000: loss = [[0.03638583]]\n",
      "It4100: loss = [[0.03638514]]\n",
      "It4200: loss = [[0.03638444]]\n",
      "It4300: loss = [[0.03638374]]\n",
      "It4400: loss = [[0.036383]]\n",
      "It4500: loss = [[0.03638221]]\n",
      "It4600: loss = [[0.03638133]]\n",
      "It4700: loss = [[0.03638045]]\n",
      "It4800: loss = [[0.03637957]]\n",
      "It4900: loss = [[0.03637867]]\n",
      "It5000: loss = [[0.03637764]]\n",
      "It5100: loss = [[0.03637663]]\n",
      "It5200: loss = [[0.03637554]]\n",
      "It5300: loss = [[0.03637441]]\n",
      "It5400: loss = [[0.03637332]]\n",
      "It5500: loss = [[0.03637214]]\n",
      "It5600: loss = [[0.03637089]]\n",
      "It5700: loss = [[0.03636957]]\n",
      "It5800: loss = [[0.03636821]]\n",
      "It5900: loss = [[0.03636673]]\n",
      "It6000: loss = [[0.03636539]]\n",
      "It6100: loss = [[0.0363652]]\n",
      "It6200: loss = [[0.03636499]]\n",
      "It6300: loss = [[0.03636487]]\n",
      "It6400: loss = [[0.03636469]]\n",
      "It6500: loss = [[0.03636453]]\n",
      "It6600: loss = [[0.03636434]]\n",
      "It6700: loss = [[0.03636413]]\n",
      "It6800: loss = [[0.03636388]]\n",
      "It6900: loss = [[0.03636367]]\n",
      "It7000: loss = [[0.03636349]]\n",
      "It7100: loss = [[0.0363632]]\n",
      "It7200: loss = [[0.03636293]]\n",
      "It7300: loss = [[0.0363627]]\n",
      "It7400: loss = [[0.03636238]]\n",
      "It7500: loss = [[0.03636213]]\n",
      "It7600: loss = [[0.03636176]]\n",
      "It7700: loss = [[0.03636144]]\n",
      "It7800: loss = [[0.03636105]]\n",
      "It7900: loss = [[0.03636074]]\n",
      "It8000: loss = [[0.03636035]]\n",
      "It8100: loss = [[0.03635998]]\n",
      "It8200: loss = [[0.03635958]]\n",
      "It8300: loss = [[0.03635911]]\n",
      "It8400: loss = [[0.03635871]]\n",
      "It8500: loss = [[0.03635824]]\n",
      "It8600: loss = [[0.03635781]]\n",
      "It8700: loss = [[0.03635729]]\n",
      "It8800: loss = [[0.03635674]]\n",
      "It8900: loss = [[0.03635624]]\n",
      "It9000: loss = [[0.03635562]]\n",
      "It9100: loss = [[0.03635494]]\n",
      "It9200: loss = [[0.03635434]]\n",
      "It9300: loss = [[0.03635364]]\n",
      "It9400: loss = [[0.03635295]]\n",
      "It9500: loss = [[0.03635228]]\n",
      "It9600: loss = [[0.03635146]]\n",
      "It9700: loss = [[0.03635067]]\n",
      "It9800: loss = [[0.03634986]]\n",
      "It9900: loss = [[0.03634893]]\n",
      "\n",
      "Computation time: 21452.36923098564 seconds\n"
     ]
    }
   ],
   "source": [
    "# Number of training epochs\n",
    "N = 2000\n",
    "hist = []\n",
    "\n",
    "# Start timer\n",
    "t0 = time()\n",
    "\n",
    "for i in tqdm(range(N, 10000)):\n",
    "    \n",
    "    loss = train_step()\n",
    "    \n",
    "    # Append current loss to hist\n",
    "    hist.append(loss.numpy())\n",
    "    \n",
    "    # Output current loss after 50 iterates\n",
    "    if i%100 == 0:\n",
    "        print('It{}: loss = {}'.format(i,loss))\n",
    "        \n",
    "# Print computation time\n",
    "print('\\nComputation time: {} seconds'.format(time()-t0))"
   ]
  },
  {
   "cell_type": "code",
   "execution_count": 2,
   "id": "cd0ce0f6",
   "metadata": {
    "scrolled": true
   },
   "outputs": [],
   "source": [
    "#model_jump.save('NN_jump_rs_t_input_r_input')"
   ]
  },
  {
   "cell_type": "code",
   "execution_count": 3,
   "id": "3b72d7c5",
   "metadata": {
    "scrolled": true
   },
   "outputs": [],
   "source": [
    "#model_jump = tf.keras.models.load_model('NN_jump_rs_t_input_r_input')"
   ]
  },
  {
   "cell_type": "code",
   "execution_count": 12,
   "id": "2cab7101",
   "metadata": {
    "scrolled": true
   },
   "outputs": [
    {
     "data": {
      "image/png": "[encoded data removed]",
      "text/plain": [
       "<Figure size 648x432 with 1 Axes>"
      ]
     },
     "metadata": {
      "needs_background": "light"
     },
     "output_type": "display_data"
    }
   ],
   "source": [
    "from mpl_toolkits.mplot3d import Axes3D\n",
    "\n",
    "DTYPE='float32'\n",
    "tf.keras.backend.set_floatx(DTYPE)\n",
    "xmin = -6.0\n",
    "xmax = 6.0\n",
    "\n",
    "# Lower bounds\n",
    "lb = tf.constant([xmin], dtype=DTYPE)\n",
    "# Upper bounds\n",
    "ub = tf.constant([xmax], dtype=DTYPE)\n",
    "# Set up meshgrid\n",
    "N = 100\n",
    "tspace = np.linspace(0.0, 1.0, N + 1)\n",
    "xspace = np.linspace(0, ub, N + 1)\n",
    "rspace = np.array([0.0]*(N+1))\n",
    "X, T = np.meshgrid(xspace, tspace)\n",
    "Xgrid = np.vstack([X.flatten(),T.flatten()]).T\n",
    "\n",
    "# Determine predictions of u(t, x)\n",
    "Xgrid_pred = np.array([np.append(Xgrid[x],[1.0],axis=0) for x in range(len(Xgrid))])\n",
    "upred = model_jump(tf.cast(Xgrid_pred,DTYPE))\n",
    "\n",
    "# Reshape upred\n",
    "U = 1-upred.numpy().reshape(N+1,N+1)\n",
    "\n",
    "# Surface plot of solution u(t,x)\n",
    "fig = plt.figure(figsize=(9,6))\n",
    "ax = fig.add_subplot(111, projection='3d')\n",
    "ax.plot_surface(X,T, U, cmap='viridis');\n",
    "ax.view_init(35,35)\n",
    "ax.set_xlabel('$x$')\n",
    "ax.set_ylabel('$t$')\n",
    "ax.set_zlabel('$u_\\\\theta(t,x)$')\n",
    "ax.set_title('Survival probability');\n",
    "#plt.savefig('Burgers_Solution.pdf', bbox_inches='tight', dpi=300);"
   ]
  },
  {
   "cell_type": "code",
   "execution_count": 37,
   "id": "71716b0b",
   "metadata": {},
   "outputs": [],
   "source": [
    "xspace = np.linspace(0, ub, N + 1)\n",
    "rspace = np.array([0.0]*(N+1))\n",
    "X, T = np.meshgrid(xspace, tspace)\n",
    "Xgrid = np.vstack([X.flatten(),T.flatten()]).T"
   ]
  },
  {
   "cell_type": "code",
   "execution_count": 20,
   "id": "95afbf25",
   "metadata": {},
   "outputs": [],
   "source": [
    "xspace_jump = np.linspace(lb, ub, 1001)\n",
    "X = np.meshgrid(xspace_jump)\n",
    "Xgrid_jump = np.vstack([X]).T"
   ]
  },
  {
   "cell_type": "code",
   "execution_count": 33,
   "id": "e887374f",
   "metadata": {
    "scrolled": true
   },
   "outputs": [
    {
     "data": {
      "text/plain": [
       "<tf.Tensor: shape=(1030301, 1), dtype=float32, numpy=\n",
       "array([[9.9428916e-01],\n",
       "       [9.9428916e-01],\n",
       "       [9.9428916e-01],\n",
       "       ...,\n",
       "       [2.8741360e-04],\n",
       "       [2.8741360e-04],\n",
       "       [2.8741360e-04]], dtype=float32)>"
      ]
     },
     "execution_count": 33,
     "metadata": {},
     "output_type": "execute_result"
    }
   ],
   "source": [
    "upred"
   ]
  },
  {
   "cell_type": "code",
   "execution_count": 21,
   "id": "4460772d",
   "metadata": {},
   "outputs": [
    {
     "ename": "ValueError",
     "evalue": "Input 0 of layer sequential is incompatible with the layer: expected axis -1 of input shape to have value 2 but received input with shape (1001, 1)",
     "output_type": "error",
     "traceback": [
      "\u001b[1;31m---------------------------------------------------------------------------\u001b[0m",
      "\u001b[1;31mValueError\u001b[0m                                Traceback (most recent call last)",
      "\u001b[1;32m<ipython-input-21-b5b0677fc19f>\u001b[0m in \u001b[0;36m<module>\u001b[1;34m\u001b[0m\n\u001b[1;32m----> 1\u001b[1;33m \u001b[0mupred_jump\u001b[0m \u001b[1;33m=\u001b[0m \u001b[0mmodel_jump\u001b[0m\u001b[1;33m(\u001b[0m\u001b[0mtf\u001b[0m\u001b[1;33m.\u001b[0m\u001b[0mcast\u001b[0m\u001b[1;33m(\u001b[0m\u001b[0mXgrid_jump\u001b[0m\u001b[1;33m,\u001b[0m\u001b[0mDTYPE\u001b[0m\u001b[1;33m)\u001b[0m\u001b[1;33m)\u001b[0m\u001b[1;33m\u001b[0m\u001b[1;33m\u001b[0m\u001b[0m\n\u001b[0m",
      "\u001b[1;32m~\\Anaconda3\\lib\\site-packages\\keras\\engine\\base_layer.py\u001b[0m in \u001b[0;36m__call__\u001b[1;34m(self, *args, **kwargs)\u001b[0m\n\u001b[0;32m   1018\u001b[0m         training=training_mode):\n\u001b[0;32m   1019\u001b[0m \u001b[1;33m\u001b[0m\u001b[0m\n\u001b[1;32m-> 1020\u001b[1;33m       \u001b[0minput_spec\u001b[0m\u001b[1;33m.\u001b[0m\u001b[0massert_input_compatibility\u001b[0m\u001b[1;33m(\u001b[0m\u001b[0mself\u001b[0m\u001b[1;33m.\u001b[0m\u001b[0minput_spec\u001b[0m\u001b[1;33m,\u001b[0m \u001b[0minputs\u001b[0m\u001b[1;33m,\u001b[0m \u001b[0mself\u001b[0m\u001b[1;33m.\u001b[0m\u001b[0mname\u001b[0m\u001b[1;33m)\u001b[0m\u001b[1;33m\u001b[0m\u001b[1;33m\u001b[0m\u001b[0m\n\u001b[0m\u001b[0;32m   1021\u001b[0m       \u001b[1;32mif\u001b[0m \u001b[0meager\u001b[0m\u001b[1;33m:\u001b[0m\u001b[1;33m\u001b[0m\u001b[1;33m\u001b[0m\u001b[0m\n\u001b[0;32m   1022\u001b[0m         \u001b[0mcall_fn\u001b[0m \u001b[1;33m=\u001b[0m \u001b[0mself\u001b[0m\u001b[1;33m.\u001b[0m\u001b[0mcall\u001b[0m\u001b[1;33m\u001b[0m\u001b[1;33m\u001b[0m\u001b[0m\n",
      "\u001b[1;32m~\\Anaconda3\\lib\\site-packages\\keras\\engine\\input_spec.py\u001b[0m in \u001b[0;36massert_input_compatibility\u001b[1;34m(input_spec, inputs, layer_name)\u001b[0m\n\u001b[0;32m    248\u001b[0m           \u001b[0mvalue\u001b[0m \u001b[1;33m=\u001b[0m \u001b[0mvalue\u001b[0m\u001b[1;33m.\u001b[0m\u001b[0mvalue\u001b[0m\u001b[1;33m\u001b[0m\u001b[1;33m\u001b[0m\u001b[0m\n\u001b[0;32m    249\u001b[0m         \u001b[1;32mif\u001b[0m \u001b[0mvalue\u001b[0m \u001b[1;32mis\u001b[0m \u001b[1;32mnot\u001b[0m \u001b[1;32mNone\u001b[0m \u001b[1;32mand\u001b[0m \u001b[0mshape_as_list\u001b[0m\u001b[1;33m[\u001b[0m\u001b[0mint\u001b[0m\u001b[1;33m(\u001b[0m\u001b[0maxis\u001b[0m\u001b[1;33m)\u001b[0m\u001b[1;33m]\u001b[0m \u001b[1;32mnot\u001b[0m \u001b[1;32min\u001b[0m \u001b[1;33m{\u001b[0m\u001b[0mvalue\u001b[0m\u001b[1;33m,\u001b[0m \u001b[1;32mNone\u001b[0m\u001b[1;33m}\u001b[0m\u001b[1;33m:\u001b[0m\u001b[1;33m\u001b[0m\u001b[1;33m\u001b[0m\u001b[0m\n\u001b[1;32m--> 250\u001b[1;33m           raise ValueError(\n\u001b[0m\u001b[0;32m    251\u001b[0m               \u001b[1;34m'Input '\u001b[0m \u001b[1;33m+\u001b[0m \u001b[0mstr\u001b[0m\u001b[1;33m(\u001b[0m\u001b[0minput_index\u001b[0m\u001b[1;33m)\u001b[0m \u001b[1;33m+\u001b[0m \u001b[1;34m' of layer '\u001b[0m \u001b[1;33m+\u001b[0m \u001b[0mlayer_name\u001b[0m \u001b[1;33m+\u001b[0m \u001b[1;34m' is'\u001b[0m\u001b[1;33m\u001b[0m\u001b[1;33m\u001b[0m\u001b[0m\n\u001b[0;32m    252\u001b[0m               \u001b[1;34m' incompatible with the layer: expected axis '\u001b[0m \u001b[1;33m+\u001b[0m \u001b[0mstr\u001b[0m\u001b[1;33m(\u001b[0m\u001b[0maxis\u001b[0m\u001b[1;33m)\u001b[0m \u001b[1;33m+\u001b[0m\u001b[1;33m\u001b[0m\u001b[1;33m\u001b[0m\u001b[0m\n",
      "\u001b[1;31mValueError\u001b[0m: Input 0 of layer sequential is incompatible with the layer: expected axis -1 of input shape to have value 2 but received input with shape (1001, 1)"
     ]
    }
   ],
   "source": [
    "upred_jump = model_jump(tf.cast(Xgrid_jump,DTYPE))"
   ]
  },
  {
   "cell_type": "code",
   "execution_count": 26,
   "id": "bc87a44b",
   "metadata": {},
   "outputs": [
    {
     "data": {
      "text/plain": [
       "[<matplotlib.lines.Line2D at 0x230172f6940>]"
      ]
     },
     "execution_count": 26,
     "metadata": {},
     "output_type": "execute_result"
    },
    {
     "data": {
      "image/png": "[encoded data removed]",
      "text/plain": [
       "<Figure size 432x288 with 1 Axes>"
      ]
     },
     "metadata": {
      "needs_background": "light"
     },
     "output_type": "display_data"
    }
   ],
   "source": [
    "#upred = model_jump(tf.cast(Xgrid_jump,DTYPE))\n",
    "plt.plot(xspace_jump, upred_jump)"
   ]
  },
  {
   "cell_type": "code",
   "execution_count": 4,
   "id": "47855d60",
   "metadata": {
    "scrolled": true
   },
   "outputs": [],
   "source": [
    "# # with learning rate\n",
    "\n",
    "# cases = [1, 2, 3, 4, 5]\n",
    "# fig, ax = plt.subplots()\n",
    "\n",
    "# for hidden in tqdm(cases):    \n",
    "    \n",
    "#     # Neural network parameters\n",
    "#     num_hidden_layers = hidden\n",
    "#     num_neurons_per_layer = 10\n",
    "\n",
    "#     # Initializing the feedforwad neural network\n",
    "#     model_jump = tf.keras.Sequential()\n",
    "\n",
    "#     # Input is one-dimensional (only space & fixed time)\n",
    "#     model_jump.add(tf.keras.Input(1))\n",
    "\n",
    "#     # Scaling layer to map input to [lb, ub]\n",
    "#     scaling_layer = tf.keras.layers.Lambda(lambda x:\n",
    "#                                           2.0*(x-lb)/(ub-lb)-1.0)\n",
    "#     model_jump.add(scaling_layer)\n",
    "\n",
    "#     # Append hidden layers \n",
    "#     for _ in range(num_hidden_layers):\n",
    "#             model_jump.add(tf.keras.layers.Dense(num_neurons_per_layer,\n",
    "#                 activation=tf.keras.activations.get('softplus'),\n",
    "#                 kernel_initializer='glorot_uniform'))\n",
    "\n",
    "#     # Output is one-dimensional\n",
    "#     model_jump.add(tf.keras.layers.Dense(1))\n",
    "\n",
    "    \n",
    "#     @tf.function\n",
    "#     def train_step():\n",
    "#     # Compute current loss and gradient w.r.t. parameters\n",
    "#         loss, grad_theta = grad(model_jump, X_0_data, path_data_list)\n",
    "\n",
    "#         # Perform gradient descent step\n",
    "#         optim.apply_gradients(zip(grad_theta, model_jump.trainable_variables))\n",
    "\n",
    "#         return loss\n",
    "\n",
    "\n",
    "\n",
    "#     lr = tf.keras.optimizers.schedules.PiecewiseConstantDecay([2000,4000,6000,8000],[1e-1,1e-2,1e-3,1e-4, 1e-5])\n",
    "\n",
    "#     # Choose the optimizer\n",
    "#     optim = tf.keras.optimizers.Adam(learning_rate=lr)\n",
    "\n",
    "#     # Number of training epochs\n",
    "#     N = 10000\n",
    "#     hist = []\n",
    "\n",
    "#     # Start timer\n",
    "#     t0 = time()\n",
    "\n",
    "#     for i in tqdm(range(N+1)):\n",
    "\n",
    "#         loss = train_step()\n",
    "\n",
    "#         # Append current loss to hist\n",
    "#         hist.append(loss.numpy())\n",
    "\n",
    "#         # Output current loss after 50 iterates\n",
    "#         if i%100 == 0:\n",
    "#             print('It{}: loss = {}'.format(i,loss))\n",
    "\n",
    "#     # Print computation time\n",
    "#     print('\\nComputation time: {} seconds'.format(time()-t0))\n",
    "    \n",
    "#     xspace_jump = np.linspace(lb, ub, 1001)\n",
    "#     X = np.meshgrid(xspace_jump)\n",
    "#     Xgrid_jump = np.vstack([X]).T\n",
    "#     upred_jump = model_jump(tf.cast(Xgrid_jump,DTYPE))\n",
    "#     ax.plot(xspace_jump, upred_jump, label=f'{hidden} hidden layers')\n",
    "#     legend = ax.legend(loc='right', fontsize='x-small')\n",
    "    \n",
    "# plt.show()"
   ]
  },
  {
   "cell_type": "code",
   "execution_count": null,
   "id": "e8baab38",
   "metadata": {},
   "outputs": [],
   "source": []
  }
 ],
 "metadata": {
  "kernelspec": {
   "display_name": "Python 3",
   "language": "python",
   "name": "python3"
  },
  "language_info": {
   "codemirror_mode": {
    "name": "ipython",
    "version": 3
   },
   "file_extension": ".py",
   "mimetype": "text/x-python",
   "name": "python",
   "nbconvert_exporter": "python",
   "pygments_lexer": "ipython3",
   "version": "3.8.8"
  }
 },
 "nbformat": 4,
 "nbformat_minor": 5
}
