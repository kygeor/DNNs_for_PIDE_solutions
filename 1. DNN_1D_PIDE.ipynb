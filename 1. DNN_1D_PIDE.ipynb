{
 "cells": [
  {
   "cell_type": "code",
   "execution_count": 6,
   "id": "2bdc6d55",
   "metadata": {},
   "outputs": [],
   "source": [
    "import pandas as pd\n",
    "import numpy as np\n",
    "import joblib\n",
    "import matplotlib.pyplot as plt\n",
    "from scipy.stats import poisson\n",
    "from tqdm.notebook import tqdm\n",
    "%matplotlib inline\n",
    "import random\n",
    "import tensorflow as tf\n",
    "from time import time"
   ]
  },
  {
   "cell_type": "code",
   "execution_count": 7,
   "id": "5a3c72d7",
   "metadata": {},
   "outputs": [],
   "source": [
    "# Define drift and diffusion terms of stochastic process\n",
    "\n",
    "def drift(x,kappa,theta):\n",
    "    \n",
    "    return kappa*(theta-x)\n",
    "\n",
    "\n",
    "def diff(x,sigma):\n",
    "    \n",
    "    return sigma\n",
    "    "
   ]
  },
  {
   "cell_type": "code",
   "execution_count": 8,
   "id": "f999d715",
   "metadata": {},
   "outputs": [],
   "source": [
    "# Function for Compound Poisson process for the jump term \n",
    "\n",
    "def normal_generator(mu_jump, sigma_jump, num_events):\n",
    "    return np.random.normal(mu_jump, sigma_jump, num_events)\n",
    "\n",
    "def compound_poisson_process(rate, dt, mu_jump, sigma_jump):\n",
    "    num_events = np.random.poisson(rate*dt, size = 1)\n",
    "    jumps = normal_generator(mu_jump = mu_jump, sigma_jump = sigma_jump, num_events = num_events)\n",
    "    \n",
    "    jump = jumps.sum()\n",
    "\n",
    "    if len(jumps) == 0:\n",
    "        jump = 0\n",
    "        \n",
    "    return jump\n",
    "\n",
    "#mu_jump = 0.0\n",
    "#sigma_jump = 1.0\n",
    "#num_events_simulated = 50\n",
    "\n",
    "#x = compound_poisson_process(10, 0.1, mu_jump, sigma_jump)\n",
    "#plt.title(\"Sample Compound Poisson Process (Binomial)\")\n",
    "#plt.xlabel(\"time\")\n",
    "#plt.ylabel(\"events\")\n",
    "#plt.legend()"
   ]
  },
  {
   "cell_type": "code",
   "execution_count": 9,
   "id": "68766f7a",
   "metadata": {
    "scrolled": true
   },
   "outputs": [],
   "source": [
    "# Function for finite-horizon path simulation of jump OU process, with a given stopping value\n",
    "\n",
    "def ou_jump_sim_stopping(kappa, theta, sigma, mu_jump, sigma_jump, rate, dt, x_0, n_sim, stopping, T):\n",
    "    \n",
    "    #T = 1.  # Total time.\n",
    "    n = max(int(T / dt),1)  # Number of time steps.\n",
    "    t = np.linspace(0., T, n)  # Vector of times.\n",
    "    x = np.zeros(n)\n",
    "    x[0] = x_0\n",
    "    x_origin = x\n",
    "    x_list = list()\n",
    "    ruin_count = 0\n",
    "    \n",
    "    for j in range(n_sim):\n",
    "        \n",
    "        if n-1 == 0:\n",
    "            stopping_factor = 0.0 if ((isinstance(stopping, float)) and (x[0] <= stopping)) else 1.0\n",
    "        else:\n",
    "        \n",
    "            for i in range(n - 1):\n",
    "\n",
    "                stopping_factor = 0.0 if ((isinstance(stopping, float)) and (x[i] <= stopping)) else 1.0\n",
    "\n",
    "                jump = compound_poisson_process(rate, dt, mu_jump, sigma_jump)\n",
    "                #print(jump)\n",
    "\n",
    "                x[i + 1] = x[i] + stopping_factor*(drift(x[i], kappa=kappa, theta=theta)*dt + diff(x[i], sigma = sigma)*np.sqrt(dt)*np.random.randn() \\\n",
    "                                + jump)\n",
    "\n",
    "\n",
    "        #plt.plot(t, x, lw=1)\n",
    "        x_list.append(x)\n",
    "        \n",
    "        x = x_origin\n",
    "        \n",
    "        if stopping_factor == 0.0:\n",
    "                ruin_count += 1\n",
    "        \n",
    "        stopping_factor = 1.0\n",
    "        \n",
    "    ruin_prob = ruin_count / n_sim    \n",
    "    #plt.show()\n",
    "    \n",
    "    return x_list, ruin_prob\n",
    "\n",
    "   "
   ]
  },
  {
   "cell_type": "code",
   "execution_count": 10,
   "id": "de2515d7",
   "metadata": {
    "scrolled": false
   },
   "outputs": [],
   "source": [
    "# Run cells if you want to perform MC simulations\n",
    "\n",
    "# sigma = 1.0 \n",
    "# kappa = 0.5 \n",
    "# theta = 0.1\n",
    "# mu_jump = 0.0\n",
    "# sigma_jump = 0.2\n",
    "# rate = 1.0\n",
    "# dt = 0.01\n",
    "# x_0 = 0.9\n",
    "# n_sim = 5000\n",
    "# stopping = 0.0\n",
    "\n",
    "# ou, prob = ou_jump_sim_stopping(kappa = kappa, theta = theta, sigma = sigma, mu_jump = mu_jump, sigma_jump = sigma_jump, rate = rate, \n",
    "#                  dt = dt, x_0 = x_0, n_sim = n_sim, stopping = stopping)\n",
    "# print(prob)"
   ]
  },
  {
   "cell_type": "code",
   "execution_count": 11,
   "id": "c7b6cd75",
   "metadata": {
    "scrolled": true
   },
   "outputs": [],
   "source": [
    "# prob_list_ex = []\n",
    "\n",
    "# for start in tqdm(np.linspace(0.0, 5.0, 51)):\n",
    "\n",
    "#     kappa = 1.0\n",
    "#     theta = 0.5\n",
    "#     sigma = 1.0\n",
    "#     mu_jump = 0.0\n",
    "#     sigma_jump = 0.2\n",
    "#     rate = 1.0\n",
    "#     n_sim = 500\n",
    "#     x_0 = start\n",
    "#     stopping = 0.0\n",
    "#     dt = 0.0001\n",
    "\n",
    "#     ou, prob = ou_jump_sim_stopping(kappa = kappa, theta = theta, sigma = sigma, mu_jump = mu_jump, sigma_jump = sigma_jump, rate = rate, \n",
    "#                       dt = dt, x_0 = x_0, n_sim = n_sim, stopping = stopping)\n",
    "    \n",
    "#     prob_list_ex.append(prob)\n",
    "    \n",
    "\n",
    "#     print(x_0,prob)"
   ]
  },
  {
   "cell_type": "code",
   "execution_count": 12,
   "id": "6abc27a8",
   "metadata": {},
   "outputs": [],
   "source": [
    "#np.save('prob_ex_list_one.npy', np.array(prob_list_ex))"
   ]
  },
  {
   "cell_type": "code",
   "execution_count": 13,
   "id": "34b07912",
   "metadata": {},
   "outputs": [],
   "source": [
    "#prob_list_ex = np.load('prob_ex_list_one.npy')"
   ]
  },
  {
   "cell_type": "code",
   "execution_count": 14,
   "id": "a63ab92b",
   "metadata": {
    "scrolled": false
   },
   "outputs": [],
   "source": [
    "# plt.plot(np.linspace(0.0, 5.0, 51), prob_list_ex)\n",
    "# plt.show()"
   ]
  },
  {
   "cell_type": "markdown",
   "id": "7fde4f9d",
   "metadata": {},
   "source": [
    "# Neural network ruin probability estimations"
   ]
  },
  {
   "cell_type": "code",
   "execution_count": 15,
   "id": "e5caedc6",
   "metadata": {},
   "outputs": [],
   "source": [
    "# Payoff function for default with 1 if the process has defaulted and 0 else\n",
    "\n",
    "def g_func(path, stopping):\n",
    "    \n",
    "    #T = 1.  # Total time.\n",
    "    #n = int(T / dt)  # Number of time steps.\n",
    "    #t = np.linspace(0., T, n)\n",
    "    \n",
    "    #path, ruin = ou_sim_2(kappa, theta, sigma, dt, x_0, 1, stopping)\n",
    "    \n",
    "    #g = tf.constant(1.0) if (tf.math.reduce_any(path <= 0)) else tf.constant(0.0)\n",
    "    g = tf.constant(1.0) if (np.any(np.array(path) <= 0)) else tf.constant(0.0)\n",
    "    return g\n",
    "    "
   ]
  },
  {
   "cell_type": "code",
   "execution_count": 16,
   "id": "7b3f064f",
   "metadata": {},
   "outputs": [],
   "source": [
    "from tqdm.notebook import tqdm"
   ]
  },
  {
   "cell_type": "code",
   "execution_count": 17,
   "id": "cdabfdce",
   "metadata": {
    "scrolled": true
   },
   "outputs": [
    {
     "data": {
      "application/vnd.jupyter.widget-view+json": {
       "model_id": "7365b08b802348c1a9f923fc0a3e9491",
       "version_major": 2,
       "version_minor": 0
      },
      "text/plain": [
       "  0%|          | 0/40000 [00:00<?, ?it/s]"
      ]
     },
     "metadata": {},
     "output_type": "display_data"
    }
   ],
   "source": [
    "# Set data type\n",
    "DTYPE='float32'\n",
    "tf.keras.backend.set_floatx(DTYPE)\n",
    "\n",
    "# Set constants\n",
    "kappa = 0.5\n",
    "theta = 3.5\n",
    "sigma = 2.0\n",
    "mu_jump = 0.0\n",
    "sigma_jump = 0.2\n",
    "rate = 1.0\n",
    "stopping = 0.0\n",
    "dt = 0.0001\n",
    "\n",
    "# Set boundary values for initial position and convert to tensorflow\n",
    "xmin = -10.0\n",
    "xmax = 10.0\n",
    "\n",
    "lb = tf.constant([xmin], dtype=DTYPE)\n",
    "ub = tf.constant([xmax], dtype=DTYPE)\n",
    "\n",
    "\n",
    "# Set random seed for reproducible results\n",
    "tf.random.set_seed(100)\n",
    "\n",
    "# Set number of path simulations\n",
    "N_sim = 40000\n",
    "\n",
    "# Draw random initial positions and maturity times for path simulations\n",
    "X_0_data = tf.random.uniform((N_sim,1), lb, ub, dtype=DTYPE)\n",
    "t_data = tf.random.uniform((N_sim,1), 0.0, 1.0, dtype = DTYPE) \n",
    "\n",
    "# Concatenate all parameters that will constitute model input into tensorflow format\n",
    "process_data = tf.concat([X_0_data, t_data], axis=1)\n",
    "\n",
    "# Simulate path for each (x,t) and append paths in list that will be used for training\n",
    "path_data_list = []\n",
    "for i in tqdm(range(len(X_0_data))):\n",
    "    \n",
    "    path_data, ruin =  ou_jump_sim_stopping(kappa = kappa, theta = theta, sigma = sigma, mu_jump = mu_jump, sigma_jump = sigma_jump, rate = rate, \n",
    "                 dt = dt, x_0 = X_0_data[i], n_sim = 1, stopping = stopping, T = t_data[i])\n",
    "    \n",
    "    \n",
    "    path_data_list.append(path_data.copy())\n",
    "    \n",
    "## Make the paths a tensor for compatability with the NN architecture    \n",
    "#path_data_list = tf.stack(path_data_not_tf)   "
   ]
  },
  {
   "cell_type": "code",
   "execution_count": 18,
   "id": "0e363c22",
   "metadata": {},
   "outputs": [],
   "source": [
    "# Neural network parameters\n",
    "num_hidden_layers = 2 #5 \n",
    "num_neurons_per_layer = 50  #10\n",
    "\n",
    "# Initializing the feedforwad neural network\n",
    "model_jump = tf.keras.Sequential()\n",
    "\n",
    "# Input is one-dimensional (only space & fixed time)\n",
    "model_jump.add(tf.keras.Input(2))\n",
    "\n",
    "# Scaling layer to map input to [lb, ub]\n",
    "#scaling_layer = tf.keras.layers.Lambda(lambda x:\n",
    "#                                      2.0*(x-lb)/(ub-lb)-1.0)\n",
    "#model_jump.add(scaling_layer)\n",
    "\n",
    "# Append hidden layers \n",
    "for _ in range(num_hidden_layers):\n",
    "        model_jump.add(tf.keras.layers.Dense(num_neurons_per_layer,\n",
    "            activation=tf.keras.activations.get('softplus'),\n",
    "            kernel_initializer='glorot_uniform'))\n",
    "        \n",
    "# Output is one-dimensional\n",
    "model_jump.add(tf.keras.layers.Dense(1))"
   ]
  },
  {
   "cell_type": "code",
   "execution_count": 19,
   "id": "7f144d56",
   "metadata": {},
   "outputs": [],
   "source": [
    "# Compute loss functon.\n",
    "\n",
    "def loss_function(model_jump, process_data, path_data_list):\n",
    "    \n",
    "    loss = 0.0\n",
    "    \n",
    "    for i in range(len(process_data)):\n",
    "        \n",
    "        path_values = path_data_list[i]\n",
    "        g = g_func(path = path_values, stopping = 0.0)\n",
    "     \n",
    "        # Predict PD value\n",
    "        pred = model_jump(process_data[i:(i+1)])\n",
    "        # Compute loss as the squared difference between the payoff and model prediction (method by Frey)\n",
    "        loss += tf.square(g - pred)\n",
    "    \n",
    "    # Final loss\n",
    "    loss_value = loss / len(process_data)\n",
    "    \n",
    "    return loss_value    \n",
    "    "
   ]
  },
  {
   "cell_type": "code",
   "execution_count": 20,
   "id": "62fba97c",
   "metadata": {},
   "outputs": [],
   "source": [
    "# Function that computes the gradient of the loss function\n",
    "\n",
    "def grad(model_jump, process_data, path_data_list):\n",
    "    \n",
    "    with tf.GradientTape(persistent=True) as tape:\n",
    "        # This tape is for derivatives with\n",
    "        # respect to trainable variables\n",
    "        tape.watch(model_jump.trainable_variables)\n",
    "        loss_value = loss_function(model_jump, process_data, path_data_list)\n",
    "    \n",
    "    grad = tape.gradient(loss_value, model_jump.trainable_variables)\n",
    "        \n",
    "    del tape\n",
    "    \n",
    "    return loss_value, grad"
   ]
  },
  {
   "cell_type": "code",
   "execution_count": 21,
   "id": "0ee4fcd7",
   "metadata": {},
   "outputs": [],
   "source": [
    "# We choose a piecewise decay of the learning rate, i.e., the\n",
    "# step size in the gradient descent type algorithm\n",
    "# the first 1000 steps use a learning rate of 0.01\n",
    "# from 1000 - 3000: learning rate = 0.001\n",
    "# from 3000 onwards: learning rate = 0.0005\n",
    "\n",
    "lr = tf.keras.optimizers.schedules.PiecewiseConstantDecay([2000,4000,6000,8000],[1e-1,1e-2,1e-3,1e-4, 1e-5])\n",
    "\n",
    "# Choose the optimizer\n",
    "optim = tf.keras.optimizers.Adam(learning_rate=lr)"
   ]
  },
  {
   "cell_type": "code",
   "execution_count": 22,
   "id": "5fbbacd6",
   "metadata": {},
   "outputs": [],
   "source": [
    "from time import time\n",
    "\n",
    "# Training step is a TensorFlow function (increases speed of training)\n",
    "@tf.function\n",
    "def train_step():\n",
    "    # Compute current loss and gradient w.r.t. parameters\n",
    "    loss, grad_theta = grad(model_jump, process_data, path_data_list)\n",
    "    \n",
    "    # Perform gradient descent step\n",
    "    optim.apply_gradients(zip(grad_theta, model_jump.trainable_variables))\n",
    "    \n",
    "    return loss"
   ]
  },
  {
   "cell_type": "code",
   "execution_count": 23,
   "id": "228a4c01",
   "metadata": {
    "scrolled": true
   },
   "outputs": [
    {
     "data": {
      "application/vnd.jupyter.widget-view+json": {
       "model_id": "98806250dc4842aca0e229032b705944",
       "version_major": 2,
       "version_minor": 0
      },
      "text/plain": [
       "  0%|          | 0/10001 [00:00<?, ?it/s]"
      ]
     },
     "metadata": {},
     "output_type": "display_data"
    },
    {
     "name": "stdout",
     "output_type": "stream",
     "text": [
      "It0: loss = [[1.6293434]]\n",
      "It100: loss = [[0.02470037]]\n",
      "It200: loss = [[0.02274799]]\n",
      "It300: loss = [[0.02163024]]\n",
      "It400: loss = [[0.0207615]]\n",
      "It500: loss = [[0.02025927]]\n",
      "It600: loss = [[0.02003521]]\n",
      "It700: loss = [[0.01993953]]\n",
      "It800: loss = [[0.01988692]]\n",
      "It900: loss = [[0.01984766]]\n",
      "It1000: loss = [[0.01981273]]\n",
      "It1100: loss = [[0.01977781]]\n",
      "It1200: loss = [[0.0197376]]\n",
      "It1300: loss = [[0.01969475]]\n",
      "It1400: loss = [[0.01966173]]\n",
      "It1500: loss = [[0.01963634]]\n",
      "It1600: loss = [[0.01961709]]\n",
      "It1700: loss = [[0.01960252]]\n",
      "It1800: loss = [[0.01959126]]\n",
      "It1900: loss = [[0.01958226]]\n",
      "It2000: loss = [[0.01967942]]\n",
      "It2100: loss = [[0.01958105]]\n",
      "It2200: loss = [[0.01957886]]\n",
      "It2300: loss = [[0.01957766]]\n",
      "It2400: loss = [[0.0195765]]\n",
      "It2500: loss = [[0.01957532]]\n",
      "It2600: loss = [[0.01957407]]\n",
      "It2700: loss = [[0.0195728]]\n",
      "It2800: loss = [[0.01957147]]\n",
      "It2900: loss = [[0.01957015]]\n",
      "It3000: loss = [[0.01956879]]\n",
      "It3100: loss = [[0.01956741]]\n",
      "It3200: loss = [[0.01956597]]\n",
      "It3300: loss = [[0.01956455]]\n",
      "It3400: loss = [[0.01956308]]\n",
      "It3500: loss = [[0.01956156]]\n",
      "It3600: loss = [[0.01955994]]\n",
      "It3700: loss = [[0.01955826]]\n",
      "It3800: loss = [[0.01955654]]\n",
      "It3900: loss = [[0.01955476]]\n",
      "It4000: loss = [[0.01955292]]\n",
      "It4100: loss = [[0.01955273]]\n",
      "It4200: loss = [[0.01955253]]\n",
      "It4300: loss = [[0.01955229]]\n",
      "It4400: loss = [[0.01955207]]\n",
      "It4500: loss = [[0.01955187]]\n",
      "It4600: loss = [[0.01955162]]\n",
      "It4700: loss = [[0.01955132]]\n",
      "It4800: loss = [[0.01955106]]\n",
      "It4900: loss = [[0.01955076]]\n",
      "It5000: loss = [[0.01955048]]\n",
      "It5100: loss = [[0.01955016]]\n",
      "It5200: loss = [[0.01954981]]\n",
      "It5300: loss = [[0.0195495]]\n",
      "It5400: loss = [[0.01954916]]\n",
      "It5500: loss = [[0.01954874]]\n",
      "It5600: loss = [[0.01954833]]\n",
      "It5700: loss = [[0.01954791]]\n",
      "It5800: loss = [[0.01954745]]\n",
      "It5900: loss = [[0.01954699]]\n",
      "It6000: loss = [[0.01954653]]\n",
      "It6100: loss = [[0.01954645]]\n",
      "It6200: loss = [[0.01954639]]\n",
      "It6300: loss = [[0.01954633]]\n",
      "It6400: loss = [[0.01954628]]\n",
      "It6500: loss = [[0.01954621]]\n",
      "It6600: loss = [[0.01954615]]\n",
      "It6700: loss = [[0.01954608]]\n",
      "It6800: loss = [[0.01954602]]\n",
      "It6900: loss = [[0.01954591]]\n",
      "It7000: loss = [[0.01954582]]\n",
      "It7100: loss = [[0.01954576]]\n",
      "It7200: loss = [[0.01954566]]\n",
      "It7300: loss = [[0.01954558]]\n",
      "It7400: loss = [[0.01954549]]\n",
      "It7500: loss = [[0.01954539]]\n",
      "It7600: loss = [[0.01954527]]\n",
      "It7700: loss = [[0.01954515]]\n",
      "It7800: loss = [[0.019545]]\n",
      "It7900: loss = [[0.0195449]]\n",
      "It8000: loss = [[0.01954478]]\n",
      "It8100: loss = [[0.01954478]]\n",
      "It8200: loss = [[0.01954477]]\n",
      "It8300: loss = [[0.01954474]]\n",
      "It8400: loss = [[0.01954473]]\n",
      "It8500: loss = [[0.0195447]]\n",
      "It8600: loss = [[0.01954467]]\n",
      "It8700: loss = [[0.01954466]]\n",
      "It8800: loss = [[0.01954463]]\n",
      "It8900: loss = [[0.01954461]]\n",
      "It9000: loss = [[0.01954459]]\n",
      "It9100: loss = [[0.01954457]]\n",
      "It9200: loss = [[0.01954453]]\n",
      "It9300: loss = [[0.01954451]]\n",
      "It9400: loss = [[0.01954449]]\n",
      "It9500: loss = [[0.01954446]]\n",
      "It9600: loss = [[0.01954444]]\n",
      "It9700: loss = [[0.01954441]]\n",
      "It9800: loss = [[0.01954438]]\n",
      "It9900: loss = [[0.01954433]]\n",
      "It10000: loss = [[0.01954429]]\n",
      "\n",
      "Computation time: 154852.93060064316 seconds\n"
     ]
    }
   ],
   "source": [
    "# Number of training epochs\n",
    "N = 10000\n",
    "hist = []\n",
    "\n",
    "# Start timer\n",
    "t0 = time()\n",
    "\n",
    "for i in tqdm(range(N+1)):\n",
    "    \n",
    "    loss = train_step()\n",
    "    \n",
    "    # Append current loss to hist\n",
    "    hist.append(loss.numpy())\n",
    "    \n",
    "    # Output current loss after 50 iterates\n",
    "    if i%100 == 0:\n",
    "        print('It{}: loss = {}'.format(i,loss))\n",
    "        \n",
    "# Print computation time\n",
    "print('\\nComputation time: {} seconds'.format(time()-t0))"
   ]
  },
  {
   "cell_type": "code",
   "execution_count": 1,
   "id": "6a2fe4f3",
   "metadata": {
    "scrolled": false
   },
   "outputs": [],
   "source": [
    "#model_jump.save('NN_jump_t_input')"
   ]
  },
  {
   "cell_type": "code",
   "execution_count": 2,
   "id": "5b0e118f",
   "metadata": {},
   "outputs": [],
   "source": [
    "#model_jump = tf.keras.models.load_model('NN_jump_t_input')"
   ]
  },
  {
   "cell_type": "code",
   "execution_count": 24,
   "id": "6320c535",
   "metadata": {
    "scrolled": true
   },
   "outputs": [
    {
     "data": {
      "image/png": "[encoded data removed]",
      "text/plain": [
       "<Figure size 648x432 with 1 Axes>"
      ]
     },
     "metadata": {
      "needs_background": "light"
     },
     "output_type": "display_data"
    }
   ],
   "source": [
    "from mpl_toolkits.mplot3d import Axes3D\n",
    "\n",
    "# Set up meshgrid\n",
    "N = 1000\n",
    "tspace = np.linspace(0.0, 1.0, N + 1)\n",
    "xspace = np.linspace(0, ub, N + 1)\n",
    "X, T = np.meshgrid(xspace, tspace)\n",
    "Xgrid = np.vstack([X.flatten(),T.flatten()]).T\n",
    "\n",
    "# Determine predictions of u(t, x)\n",
    "upred = model_jump(tf.cast(Xgrid,DTYPE))\n",
    "\n",
    "# Reshape upred\n",
    "U = 1-upred.numpy().reshape(N+1,N+1)\n",
    "\n",
    "# Surface plot of solution u(t,x)\n",
    "fig = plt.figure(figsize=(9,6))\n",
    "ax = fig.add_subplot(111, projection='3d')\n",
    "ax.plot_surface(X,T, U, cmap='viridis');\n",
    "ax.view_init(35,35)\n",
    "ax.set_xlabel('$x$')\n",
    "ax.set_ylabel('$t$')\n",
    "ax.set_zlabel('$u_\\\\theta(t,x)$')\n",
    "ax.set_title('Survival probability');\n",
    "#plt.savefig('Burgers_Solution.pdf', bbox_inches='tight', dpi=300);"
   ]
  },
  {
   "cell_type": "code",
   "execution_count": 26,
   "id": "b6e5e077",
   "metadata": {},
   "outputs": [
    {
     "data": {
      "text/plain": [
       "'temp-plot.html'"
      ]
     },
     "execution_count": 26,
     "metadata": {},
     "output_type": "execute_result"
    }
   ],
   "source": [
    "import plotly.offline as pyoff\n",
    "import plotly.graph_objs as go\n",
    "import plotly.graph_objects as go\n",
    "N = 1000\n",
    "tspace = np.linspace(0.0, 1.0, N + 1)\n",
    "xspace = np.linspace(0, ub, N + 1)\n",
    "X, T = np.meshgrid(xspace, tspace)\n",
    "Xgrid = np.vstack([X.flatten(),T.flatten()]).T\n",
    "upred = model_jump(tf.cast(Xgrid,DTYPE))\n",
    "\n",
    "# Reshape upred\n",
    "U = 1-upred.numpy().reshape(N+1,N+1)\n",
    "\n",
    "data=go.Surface(z=U, x=X, y=T, colorbar=None)\n",
    "\n",
    "layout = go.Layout(scene = dict(\n",
    "                    xaxis_title='Initial Position',\n",
    "                    yaxis_title='Maturity time',\n",
    "                    zaxis_title='Survival Probability'))\n",
    "\n",
    "fig = go.Figure(data=[data], layout=layout)\n",
    "pyoff.plot(fig)\n",
    "#fig.show()"
   ]
  },
  {
   "cell_type": "code",
   "execution_count": 27,
   "id": "95afbf25",
   "metadata": {},
   "outputs": [],
   "source": [
    "xspace_jump = np.linspace(lb, ub, 1001)\n",
    "X = np.meshgrid(xspace_jump)\n",
    "T = np.meshgrid([1.0]*len(xspace_jump))\n",
    "Xgrid_jump = np.vstack([X, T]).T"
   ]
  },
  {
   "cell_type": "code",
   "execution_count": 28,
   "id": "4460772d",
   "metadata": {},
   "outputs": [],
   "source": [
    "upred_jump = model_jump(tf.cast(Xgrid_jump,DTYPE))"
   ]
  },
  {
   "cell_type": "code",
   "execution_count": 29,
   "id": "bc87a44b",
   "metadata": {
    "scrolled": false
   },
   "outputs": [
    {
     "data": {
      "text/plain": [
       "[<matplotlib.lines.Line2D at 0x211caa6a3a0>]"
      ]
     },
     "execution_count": 29,
     "metadata": {},
     "output_type": "execute_result"
    },
    {
     "data": {
      "image/png": "[encoded data removed]",
      "text/plain": [
       "<Figure size 432x288 with 1 Axes>"
      ]
     },
     "metadata": {
      "needs_background": "light"
     },
     "output_type": "display_data"
    }
   ],
   "source": [
    "#upred = model_jump(tf.cast(Xgrid_jump,DTYPE))\n",
    "plt.plot(xspace_jump, upred_jump)"
   ]
  },
  {
   "cell_type": "code",
   "execution_count": 37,
   "id": "80618a08",
   "metadata": {},
   "outputs": [],
   "source": [
    "xspace_jump = np.linspace(lb, ub, 1001)\n",
    "X = np.meshgrid(xspace_jump)\n",
    "T = np.meshgrid([0.0]*len(xspace_jump))\n",
    "Xgrid_jump = np.vstack([X, T]).T"
   ]
  },
  {
   "cell_type": "code",
   "execution_count": 38,
   "id": "d5232429",
   "metadata": {},
   "outputs": [],
   "source": [
    "upred_jump = model_jump(tf.cast(Xgrid_jump,DTYPE))"
   ]
  },
  {
   "cell_type": "code",
   "execution_count": 39,
   "id": "12b67b75",
   "metadata": {
    "scrolled": true
   },
   "outputs": [
    {
     "data": {
      "text/plain": [
       "[<matplotlib.lines.Line2D at 0x1a3422d0430>]"
      ]
     },
     "execution_count": 39,
     "metadata": {},
     "output_type": "execute_result"
    },
    {
     "data": {
      "image/png": "[encoded data removed]",
      "text/plain": [
       "<Figure size 432x288 with 1 Axes>"
      ]
     },
     "metadata": {
      "needs_background": "light"
     },
     "output_type": "display_data"
    }
   ],
   "source": [
    "#upred = model_jump(tf.cast(Xgrid_jump,DTYPE))\n",
    "plt.plot(xspace_jump, upred_jump)"
   ]
  },
  {
   "cell_type": "code",
   "execution_count": 40,
   "id": "9db37933",
   "metadata": {},
   "outputs": [],
   "source": [
    "# Comparison with MC\n",
    "\n",
    "x_mc = np.linspace(0.0, 5.0, 51)\n",
    "mc = prob_list_ex\n",
    "\n",
    "fig, ax = plt.subplots()\n",
    "ax.plot(x_mc, mc, label='MC estimation', color='blue')\n",
    "ax.plot(xspace_jump, upred_jump, label='NN estimation', color = 'red')\n",
    "legend = ax.legend(loc='center left')\n",
    "plt.xlabel('x_0')\n",
    "plt.ylabel('Psi-PD')\n",
    "plt.title('Comparison of the different prices')\n",
    "plt.show()"
   ]
  },
  {
   "cell_type": "code",
   "execution_count": 3,
   "id": "2a68da8d",
   "metadata": {
    "scrolled": true
   },
   "outputs": [],
   "source": [
    "#other_model = tf.keras.models.load_model('NN_one')"
   ]
  },
  {
   "cell_type": "code",
   "execution_count": 4,
   "id": "a0c8b659",
   "metadata": {},
   "outputs": [],
   "source": [
    "# u = other_model(trial)\n",
    "# u"
   ]
  },
  {
   "cell_type": "code",
   "execution_count": null,
   "id": "f02e702b",
   "metadata": {},
   "outputs": [],
   "source": []
  }
 ],
 "metadata": {
  "kernelspec": {
   "display_name": "Python 3",
   "language": "python",
   "name": "python3"
  },
  "language_info": {
   "codemirror_mode": {
    "name": "ipython",
    "version": 3
   },
   "file_extension": ".py",
   "mimetype": "text/x-python",
   "name": "python",
   "nbconvert_exporter": "python",
   "pygments_lexer": "ipython3",
   "version": "3.8.8"
  }
 },
 "nbformat": 4,
 "nbformat_minor": 5
}
